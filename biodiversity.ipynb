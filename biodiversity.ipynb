{
 "cells": [
  {
   "cell_type": "markdown",
   "metadata": {},
   "source": [
    "# introduction\n",
    "This goal of this project is to analyze biodiversity data from the National Parks Service, particularly around various species observed in different national park locations.\n",
    "\n",
    "This project will scope, analyze, prepare, plot data, and seek to explain the findings from the analysis.\n",
    "\n",
    "Here are a few questions that this project has sought to answer:\n",
    "\n",
    "- What is the distribution of conservation status for species?\n",
    "- Are certain types of species more likely to be endangered?\n",
    "- Are the differences between species and their conservation status significant?\n",
    "- Which animal is most prevalent and what is their distribution amongst parks?\n",
    "\n",
    "# Data sources:\n",
    "\n",
    "Both `Observations.csv` and `Species_info.csv` was provided by [Codecademy.com](https://www.codecademy.com).\n",
    "\n",
    "Note: The data for this project is *inspired* by real data, but is mostly fictional."
   ]
  },
  {
   "cell_type": "markdown",
   "metadata": {},
   "source": [
    "## Scoping\n",
    "\n",
    "It's beneficial to create a project scope whenever a new project is being started. Four sections were created below to help guide the project's process and progress. The first section is the project goals, this section will define the high-level objectives and set the intentions for this project. The next section is the data, luckily in this project, data is already provided but still needs to be checked if project goals can be met with the available data. Thirdly, the analysis will have to be thought through, which include the methods and questions that are aligned with the project goals. Lastly, evaluation will help us build conclusions and findings from our analysis.\n",
    "\n",
    "### Project Goals\n",
    "\n",
    "In this project the perspective will be through a biodiversity analyst for the National Parks Service. The National Park Service wants to ensure the survival of at-risk species, to maintain the level of biodiversity within their parks. Therefore, the main objectives as an analyst will be understanding characteristics about the species and their conservations status, and those species and their relationship to the national parks. Some questions that are posed:\n",
    "\n",
    "- What is the distribution of conservation status for species?\n",
    "- Are certain types of species more likely to be endangered?\n",
    "- Are the differences between species and their conservation status significant?\n",
    "- Which animal is most prevalent and what is their distribution amongst parks?\n"
   ]
  },
  {
   "cell_type": "code",
   "execution_count": 17,
   "metadata": {},
   "outputs": [],
   "source": [
    "#data import and libaray import\n",
    "import pandas as pd\n",
    "import matplotlib.pyplot as plt\n",
    "from scipy.stats import chi2_contingency\n",
    "df_obv = pd.read_csv('Observations.csv')\n",
    "df_spec = pd.read_csv('Species_info.csv')"
   ]
  },
  {
   "cell_type": "code",
   "execution_count": 3,
   "metadata": {},
   "outputs": [
    {
     "name": "stdout",
     "output_type": "stream",
     "text": [
      "Index(['scientific_name', 'park_name', 'observations'], dtype='object')\n",
      "Index(['category', 'scientific_name', 'common_names', 'conservation_status'], dtype='object')\n"
     ]
    }
   ],
   "source": [
    "#reviewing column headers\n",
    "print(df_obv.columns)\n",
    "print(df_spec.columns)"
   ]
  },
  {
   "cell_type": "code",
   "execution_count": 5,
   "metadata": {},
   "outputs": [
    {
     "name": "stdout",
     "output_type": "stream",
     "text": [
      "                     scientific_name                            park_name  \\\n",
      "0                 Vicia benghalensis  Great Smoky Mountains National Park   \n",
      "1                     Neovison vison  Great Smoky Mountains National Park   \n",
      "2                  Prunus subcordata               Yosemite National Park   \n",
      "3               Abutilon theophrasti                  Bryce National Park   \n",
      "4           Githopsis specularioides  Great Smoky Mountains National Park   \n",
      "5  Elymus virginicus var. virginicus               Yosemite National Park   \n",
      "6                   Spizella pusilla            Yellowstone National Park   \n",
      "7                  Elymus multisetus  Great Smoky Mountains National Park   \n",
      "8             Lysimachia quadrifolia               Yosemite National Park   \n",
      "9         Diphyscium cumberlandianum            Yellowstone National Park   \n",
      "\n",
      "   observations  \n",
      "0            68  \n",
      "1            77  \n",
      "2           138  \n",
      "3            84  \n",
      "4            85  \n",
      "5           112  \n",
      "6           228  \n",
      "7            39  \n",
      "8           168  \n",
      "9           250  \n"
     ]
    }
   ],
   "source": [
    "#High level data look\n",
    "print(df_obv.head(10))"
   ]
  },
  {
   "cell_type": "code",
   "execution_count": 7,
   "metadata": {},
   "outputs": [
    {
     "name": "stdout",
     "output_type": "stream",
     "text": [
      "   category                scientific_name  \\\n",
      "0    Mammal  Clethrionomys gapperi gapperi   \n",
      "1    Mammal                      Bos bison   \n",
      "2    Mammal                     Bos taurus   \n",
      "3    Mammal                     Ovis aries   \n",
      "4    Mammal                 Cervus elaphus   \n",
      "..      ...                            ...   \n",
      "95     Bird              Buteo jamaicensis   \n",
      "96     Bird                 Buteo lineatus   \n",
      "97     Bird              Buteo platypterus   \n",
      "98     Bird                 Circus cyaneus   \n",
      "99     Bird           Elanoides forficatus   \n",
      "\n",
      "                                         common_names conservation_status  \n",
      "0                            Gapper's Red-Backed Vole                 NaN  \n",
      "1                               American Bison, Bison                 NaN  \n",
      "2   Aurochs, Aurochs, Domestic Cattle (Feral), Dom...                 NaN  \n",
      "3   Domestic Sheep, Mouflon, Red Sheep, Sheep (Feral)                 NaN  \n",
      "4                                       Wapiti Or Elk                 NaN  \n",
      "..                                                ...                 ...  \n",
      "95                                    Red-Tailed Hawk                 NaN  \n",
      "96                                Red-Shouldered Hawk  Species of Concern  \n",
      "97                                  Broad-Winged Hawk                 NaN  \n",
      "98                                   Northern Harrier  Species of Concern  \n",
      "99  American Swallow-Tailed Kite, Swallow-Tailed Kite  Species of Concern  \n",
      "\n",
      "[100 rows x 4 columns]\n"
     ]
    }
   ],
   "source": [
    "print(df_spec.head(100))"
   ]
  },
  {
   "cell_type": "code",
   "execution_count": 8,
   "metadata": {},
   "outputs": [
    {
     "name": "stdout",
     "output_type": "stream",
     "text": [
      "Species of Concern    161\n",
      "Endangered             16\n",
      "Threatened             10\n",
      "In Recovery             4\n",
      "Name: conservation_status, dtype: int64\n"
     ]
    }
   ],
   "source": [
    "conservation_counts = df_spec['conservation_status'].value_counts()\n",
    "\n",
    "# Print the frequency of each conservation status\n",
    "print(conservation_counts)\n"
   ]
  },
  {
   "cell_type": "code",
   "execution_count": 10,
   "metadata": {},
   "outputs": [
    {
     "name": "stdout",
     "output_type": "stream",
     "text": [
      "count                    191\n",
      "unique                     4\n",
      "top       Species of Concern\n",
      "freq                     161\n",
      "Name: conservation_status, dtype: object\n"
     ]
    }
   ],
   "source": [
    "# Assuming 'conservation_status' is the column name\n",
    "conservation_stats = df_spec['conservation_status'].describe()\n",
    "\n",
    "# Print the descriptive statistics\n",
    "print(conservation_stats)"
   ]
  },
  {
   "cell_type": "code",
   "execution_count": 14,
   "metadata": {},
   "outputs": [
    {
     "data": {
      "image/png": "[encoded data removed]",
      "text/plain": [
       "<Figure size 640x480 with 1 Axes>"
      ]
     },
     "metadata": {},
     "output_type": "display_data"
    }
   ],
   "source": [
    "conservation_distribution = df_spec['conservation_status'].value_counts()\n",
    "conservation_distribution.plot(kind='bar')\n",
    "plt.title('Distribution of Conservation Status')\n",
    "plt.xlabel('Conservation Status')\n",
    "plt.ylabel('Count')\n",
    "plt.show()"
   ]
  },
  {
   "cell_type": "code",
   "execution_count": 15,
   "metadata": {},
   "outputs": [
    {
     "name": "stdout",
     "output_type": "stream",
     "text": [
      "conservation_status  Endangered  In Recovery  Species of Concern  Threatened\n",
      "category                                                                    \n",
      "Amphibian              0.142857     0.000000            0.571429    0.285714\n",
      "Bird                   0.050633     0.037975            0.911392    0.000000\n",
      "Fish                   0.272727     0.000000            0.363636    0.363636\n",
      "Mammal                 0.184211     0.026316            0.736842    0.052632\n",
      "Nonvascular Plant      0.000000     0.000000            1.000000    0.000000\n",
      "Reptile                0.000000     0.000000            1.000000    0.000000\n",
      "Vascular Plant         0.021739     0.000000            0.934783    0.043478\n"
     ]
    }
   ],
   "source": [
    "# Group species by their categories and conservation statuses, then count the occurrences\n",
    "conservation_distribution_by_category = df_spec.groupby(['category', 'conservation_status']).size().unstack(fill_value=0)\n",
    "\n",
    "# Normalize the counts to get proportions\n",
    "conservation_distribution_by_category = conservation_distribution_by_category.div(conservation_distribution_by_category.sum(axis=1), axis=0)\n",
    "\n",
    "# Print the normalized distribution of conservation statuses for each category\n",
    "print(conservation_distribution_by_category)"
   ]
  },
  {
   "cell_type": "code",
   "execution_count": 18,
   "metadata": {},
   "outputs": [
    {
     "name": "stdout",
     "output_type": "stream",
     "text": [
      "Chi-Square Statistic: 53.91636314015659\n",
      "P-value: 1.8909788349761653e-05\n"
     ]
    }
   ],
   "source": [
    "# Create a contingency table\n",
    "contingency_table = pd.crosstab(df_spec['category'], df_spec['conservation_status'])\n",
    "\n",
    "# Perform the chi-square test\n",
    "chi2, p_value, dof, expected = chi2_contingency(contingency_table)\n",
    "\n",
    "# Print the results\n",
    "print(\"Chi-Square Statistic:\", chi2)\n",
    "print(\"P-value:\", p_value)"
   ]
  },
  {
   "cell_type": "code",
   "execution_count": 19,
   "metadata": {},
   "outputs": [
    {
     "name": "stdout",
     "output_type": "stream",
     "text": [
      "Most prevalent species: Streptopelia decaocto\n",
      "Number of observations: 1785\n",
      "\n",
      "Distribution of observations among parks:\n",
      "park_name\n",
      "Bryce National Park                    301\n",
      "Great Smoky Mountains National Park    256\n",
      "Yellowstone National Park              771\n",
      "Yosemite National Park                 457\n",
      "Name: observations, dtype: int64\n"
     ]
    }
   ],
   "source": [
    "# Step 1: Calculate total number of observations for each species\n",
    "species_observation_counts = df_obv.groupby('scientific_name')['observations'].sum()\n",
    "\n",
    "# Step 2: Identify the species with the highest number of observations\n",
    "most_prevalent_species = species_observation_counts.idxmax()\n",
    "max_observations = species_observation_counts.max()\n",
    "\n",
    "print(\"Most prevalent species:\", most_prevalent_species)\n",
    "print(\"Number of observations:\", max_observations)\n",
    "\n",
    "# Step 3: Filter observations of the most prevalent species\n",
    "observations_most_prevalent_species = df_obv[df_obv['scientific_name'] == most_prevalent_species]\n",
    "\n",
    "# Step 4: Calculate distribution of observations among parks\n",
    "distribution_among_parks = observations_most_prevalent_species.groupby('park_name')['observations'].sum()\n",
    "\n",
    "print(\"\\nDistribution of observations among parks:\")\n",
    "print(distribution_among_parks)\n"
   ]
  },
  {
   "cell_type": "code",
   "execution_count": null,
   "metadata": {},
   "outputs": [],
   "source": []
  }
 ],
 "metadata": {
  "kernelspec": {
   "display_name": "Python 3 (ipykernel)",
   "language": "python",
   "name": "python3"
  },
  "language_info": {
   "codemirror_mode": {
    "name": "ipython",
    "version": 3
   },
   "file_extension": ".py",
   "mimetype": "text/x-python",
   "name": "python",
   "nbconvert_exporter": "python",
   "pygments_lexer": "ipython3",
   "version": "3.11.3"
  }
 },
 "nbformat": 4,
 "nbformat_minor": 4
}
